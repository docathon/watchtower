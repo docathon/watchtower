{
  "cells": [
    {
      "cell_type": "code",
      "execution_count": null,
      "metadata": {
        "collapsed": false
      },
      "outputs": [],
      "source": [
        "%matplotlib inline"
      ]
    },
    {
      "cell_type": "markdown",
      "metadata": {},
      "source": [
        "\n# Identifying documentation commits\n\n\nThis example shows how to identify documentation specfic commits.\n\n\n"
      ]
    },
    {
      "cell_type": "code",
      "execution_count": null,
      "metadata": {
        "collapsed": false
      },
      "outputs": [],
      "source": [
        "from watchtower.handlers_ import GithubDatabase\nimport matplotlib.pyplot as plt\nimport numpy as np\nimport pandas as pd\n\nprojects = [('docathon', 'watchtower'),\n            ('scikit-learn', 'scikit-learn')]\n\n\ndef is_doc(string):\n    check_strings = ['doc', 'documentation', 'docathon']\n    is_doc = any(istr in string for istr in check_strings)\n    return is_doc\n\n\nupdate_db = True\n\n# Initialize the database\ndb = GithubDatabase(verbose=True)\n\n# Update users and print the db\nsince = '2017-02-10'\nif update_db is True:\n    for user, project in projects:\n        db.update(user, project, since=since)\nsince = pd.to_datetime(since)\nprint(db)\n\n# Load the data for plotting\nprojects = [db.load(user, project) for user, project in projects]\n\n# Now plot pushes each day\nfig, axs = plt.subplots(nrows=2, figsize=(8, 6), sharex=True, sharey=True)\nfor proj, ax in zip(projects, axs):\n    proj.commits['is_doc'] = proj.commits['message'].apply(is_doc)\n    proj.commits = proj.commits.query('date > @since')\n    all_commits = proj.commits.resample('D').count().\\\n        replace(np.nan, 0).astype(int)\n    doc_commits = proj.commits.resample('D').sum().\\\n        replace(np.nan, 0).astype(int)\n    ax.bar(all_commits.index, all_commits['is_doc'], label='all')\n    ax.bar(doc_commits.index, doc_commits['is_doc'], label='doc')\n    ax.set_title(\"{}/{}\".format(proj.user, proj.project), fontweight=\"bold\")\n    ax.set_ylabel('# Commits', fontweight=\"bold\")\naxs[-1].legend()\nplt.setp(axs[-1].get_xticklabels(), rotation=45, horizontalalignment='right')\nplt.setp([ax.xaxis.label for ax in axs], visible=False)\nplt.tight_layout()\nplt.show()"
      ]
    }
  ],
  "metadata": {
    "kernelspec": {
      "display_name": "Python 3",
      "language": "python",
      "name": "python3"
    },
    "language_info": {
      "codemirror_mode": {
        "name": "ipython",
        "version": 3
      },
      "file_extension": ".py",
      "mimetype": "text/x-python",
      "name": "python",
      "nbconvert_exporter": "python",
      "pygments_lexer": "ipython3",
      "version": "3.6.0"
    }
  },
  "nbformat": 4,
  "nbformat_minor": 0
}