{
  "cells": [
    {
      "cell_type": "code",
      "execution_count": null,
      "metadata": {
        "collapsed": false
      },
      "outputs": [],
      "source": [
        "%matplotlib inline"
      ]
    },
    {
      "cell_type": "markdown",
      "metadata": {},
      "source": [
        "\n# choldgraf vs NelleV\n\n\nThis short example shows the number of commits per user across time.\n\n"
      ]
    },
    {
      "cell_type": "code",
      "execution_count": null,
      "metadata": {
        "collapsed": false
      },
      "outputs": [],
      "source": [
        "from watchtower.handlers_ import GithubDatabase\nimport matplotlib.pyplot as plt\n\nusers = ['choldgraf', 'NelleV']\n\n# Initialize the database\ndb = GithubDatabase(verbose=True)\n\n# Update users and print the db\nfor user in users:\n    db.update(user)\nprint(db)\n\n# Load the data for plotting\nusers = [db.load(user) for user in users]\n\n# Now plot pushes each day\nfig, ax = plt.subplots(figsize=(10, 5))\nfor user in users:\n    counts = user.PushEvent.resample('D').count().iloc[:, 0]\n    counts.plot(ax=ax, label=user.user, lw=3)\nax.set_title('Commits for users')\nax.xaxis.label.set(visible=False)\nax.legend()\nplt.tight_layout()\nplt.show()"
      ]
    }
  ],
  "metadata": {
    "kernelspec": {
      "display_name": "Python 3",
      "language": "python",
      "name": "python3"
    },
    "language_info": {
      "codemirror_mode": {
        "name": "ipython",
        "version": 3
      },
      "file_extension": ".py",
      "mimetype": "text/x-python",
      "name": "python",
      "nbconvert_exporter": "python",
      "pygments_lexer": "ipython3",
      "version": "3.6.0"
    }
  },
  "nbformat": 4,
  "nbformat_minor": 0
}