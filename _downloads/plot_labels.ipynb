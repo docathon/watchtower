{
  "cells": [
    {
      "cell_type": "code",
      "execution_count": null,
      "metadata": {
        "collapsed": false
      },
      "outputs": [],
      "source": [
        "%matplotlib inline"
      ]
    },
    {
      "cell_type": "markdown",
      "metadata": {},
      "source": [
        "\n# Labels\n\n\nIn this small examples, we compare labels between the different projects:\n\n    - scikit-learn\n    - watchtower\n\n\n"
      ]
    },
    {
      "cell_type": "code",
      "execution_count": null,
      "metadata": {
        "collapsed": false
      },
      "outputs": [],
      "source": [
        "import numpy as np\nimport pandas as pd\nfrom watchtower import GithubDatabase\nimport matplotlib.pyplot as plt\n\nprojects = ((\"scikit-learn\", \"scikit-learn\"),\n            (\"docathon\", \"watchtower\"))\ndb = GithubDatabase(verbose=True)\n\nupdate_issues = True  # Do we update the database\nsince = '2017-02-01'\n\nfor user, project in projects:\n    if update_issues is True:\n        db.update(user, project, since=since)\n\n    proj = db.load(user, project)\n    if proj.issues is None:\n        print('No data for {}'.format(project))\n        continue\n    all_issues = proj.issues\n    open_issues = all_issues.query('state == \"open\"')\n\n    # Extract the names of the labels\n    all_labels = np.array([name for names in all_issues['label_names'].values\n                           for name in names])\n    open_labels = np.array([name for names in open_issues['label_names'].values\n                            for name in names])\n    unique_labels = np.unique(all_labels)\n    counts = dict()\n    for label in unique_labels:\n        n_instances = np.sum(all_labels == label)\n        n_open = np.sum(open_labels == label)\n        counts[label] = (n_instances, n_open)\n    counts = pd.DataFrame(counts).T\n    counts.columns = ['all', 'open']\n    counts = counts.sort_values('all', ascending=False)\n\n    fig = plt.figure(figsize=(14, 5))\n    ax = fig.add_axes([0.1, 0.3, 0.8, 0.6])\n    ax.grid(\"off\")\n    ax.spines['right'].set_color('none')\n    ax.spines['left'].set_color('none')\n    ax.spines['top'].set_color('none')\n    ax.xaxis.set_ticks_position('bottom')\n    ax.yaxis.set_ticks_position('left')\n\n    for column in counts.columns:\n        ixs = range(counts.shape[0])\n        ax.bar(ixs, counts[column], label=column)\n    ax.set_xticks(ixs)\n    ax.set_xticklabels(counts.index, rotation=90, fontsize=\"x-small\")\n\n    yticks = ax.get_yticks()\n    for l in yticks:\n        ax.axhline(l, linewidth=0.75, zorder=-10, color=\"0.5\")\n    ax.set_yticks(yticks)\n    ax.set_title(project, fontweight=\"bold\")\n\n    ax.legend()\nplt.show()"
      ]
    }
  ],
  "metadata": {
    "kernelspec": {
      "display_name": "Python 3",
      "language": "python",
      "name": "python3"
    },
    "language_info": {
      "codemirror_mode": {
        "name": "ipython",
        "version": 3
      },
      "file_extension": ".py",
      "mimetype": "text/x-python",
      "name": "python",
      "nbconvert_exporter": "python",
      "pygments_lexer": "ipython3",
      "version": "3.6.0"
    }
  },
  "nbformat": 4,
  "nbformat_minor": 0
}